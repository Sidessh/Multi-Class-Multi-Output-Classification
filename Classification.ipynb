{
 "cells": [
  {
   "cell_type": "markdown",
   "metadata": {},
   "source": [
    "### Import Libraries"
   ]
  },
  {
   "cell_type": "code",
   "execution_count": 1,
   "metadata": {},
   "outputs": [],
   "source": [
    "import pandas as pd\n",
    "import seaborn as sns\n",
    "from sklearn.model_selection import train_test_split\n",
    "from sklearn.pipeline import Pipeline\n",
    "from sklearn.feature_extraction.text import CountVectorizer,TfidfVectorizer\n",
    "from sklearn.linear_model import LogisticRegression\n",
    "from sklearn.tree import DecisionTreeClassifier\n",
    "from sklearn.neighbors import KNeighborsClassifier\n",
    "from sklearn.naive_bayes import MultinomialNB\n",
    "from sklearn.metrics import accuracy_score,classification_report,confusion_matrix,plot_confusion_matrix\n",
    "from sklearn.ensemble import RandomForestClassifier\n",
    "\n",
    "import nltk\n",
    "import unicodedata\n",
    "from contractions import contractions_dict\n",
    "import re\n",
    "from nltk.corpus import wordnet\n",
    "import collections\n",
    "from nltk.tokenize.toktok import ToktokTokenizer\n",
    "from bs4 import BeautifulSoup\n",
    "from nltk.stem import WordNetLemmatizer\n",
    "from nltk.corpus import stopwords\n",
    "import contractions\n",
    "from nltk.tokenize import word_tokenize\n",
    "\n",
    "from sklearn.model_selection import RandomizedSearchCV\n",
    "from sklearn.ensemble import GradientBoostingClassifier\n",
    "from sklearn.feature_extraction.text import TfidfTransformer\n",
    "from sklearn.feature_extraction.text import CountVectorizer\n",
    "from nltk.tokenize import word_tokenize\n",
    "from sklearn.metrics import f1_score\n",
    "from sklearn.multioutput import MultiOutputClassifier"
   ]
  },
  {
   "cell_type": "code",
   "execution_count": 2,
   "metadata": {},
   "outputs": [],
   "source": [
    "df = pd.read_csv('train.csv')"
   ]
  },
  {
   "cell_type": "code",
   "execution_count": 3,
   "metadata": {},
   "outputs": [
    {
     "data": {
      "text/html": [
       "<div>\n",
       "<style scoped>\n",
       "    .dataframe tbody tr th:only-of-type {\n",
       "        vertical-align: middle;\n",
       "    }\n",
       "\n",
       "    .dataframe tbody tr th {\n",
       "        vertical-align: top;\n",
       "    }\n",
       "\n",
       "    .dataframe thead th {\n",
       "        text-align: right;\n",
       "    }\n",
       "</style>\n",
       "<table border=\"1\" class=\"dataframe\">\n",
       "  <thead>\n",
       "    <tr style=\"text-align: right;\">\n",
       "      <th></th>\n",
       "      <th>job_no</th>\n",
       "      <th>job_description</th>\n",
       "      <th>job_type</th>\n",
       "      <th>category</th>\n",
       "    </tr>\n",
       "  </thead>\n",
       "  <tbody>\n",
       "    <tr>\n",
       "      <th>0</th>\n",
       "      <td>Id-12765</td>\n",
       "      <td>Zest Scientific is searching for an accomplis...</td>\n",
       "      <td>Permanent</td>\n",
       "      <td>Pharmaceutical, Healthcare and Medical Sales</td>\n",
       "    </tr>\n",
       "    <tr>\n",
       "      <th>1</th>\n",
       "      <td>Id-22925</td>\n",
       "      <td>En el mundo de los CRO's típicos, esta compañí...</td>\n",
       "      <td>Permanent</td>\n",
       "      <td>Clinical Research</td>\n",
       "    </tr>\n",
       "    <tr>\n",
       "      <th>2</th>\n",
       "      <td>Id-1321</td>\n",
       "      <td>Asha Mistry of Umbilical Life is recruiting an...</td>\n",
       "      <td>Contract/Interim</td>\n",
       "      <td>Pharmaceutical Marketing</td>\n",
       "    </tr>\n",
       "    <tr>\n",
       "      <th>3</th>\n",
       "      <td>Id-9473</td>\n",
       "      <td>Sales Representative - Laser in der Medizinte...</td>\n",
       "      <td>Permanent</td>\n",
       "      <td>Pharmaceutical, Healthcare and Medical Sales</td>\n",
       "    </tr>\n",
       "    <tr>\n",
       "      <th>4</th>\n",
       "      <td>Id-14952</td>\n",
       "      <td>Field Service Engineer - Life Science\\r\\r\\r\\nC...</td>\n",
       "      <td>Permanent</td>\n",
       "      <td>Manufacturing &amp; Operations</td>\n",
       "    </tr>\n",
       "  </tbody>\n",
       "</table>\n",
       "</div>"
      ],
      "text/plain": [
       "     job_no                                    job_description  \\\n",
       "0  Id-12765   Zest Scientific is searching for an accomplis...   \n",
       "1  Id-22925  En el mundo de los CRO's típicos, esta compañí...   \n",
       "2   Id-1321  Asha Mistry of Umbilical Life is recruiting an...   \n",
       "3   Id-9473   Sales Representative - Laser in der Medizinte...   \n",
       "4  Id-14952  Field Service Engineer - Life Science\\r\\r\\r\\nC...   \n",
       "\n",
       "           job_type                                      category  \n",
       "0         Permanent  Pharmaceutical, Healthcare and Medical Sales  \n",
       "1         Permanent                             Clinical Research  \n",
       "2  Contract/Interim                      Pharmaceutical Marketing  \n",
       "3         Permanent  Pharmaceutical, Healthcare and Medical Sales  \n",
       "4         Permanent                    Manufacturing & Operations  "
      ]
     },
     "execution_count": 3,
     "metadata": {},
     "output_type": "execute_result"
    }
   ],
   "source": [
    "df.head()"
   ]
  },
  {
   "cell_type": "code",
   "execution_count": 4,
   "metadata": {
    "scrolled": true
   },
   "outputs": [
    {
     "data": {
      "text/plain": [
       "Permanent             15777\n",
       "Contract/Interim       1414\n",
       "Contract/Temp           305\n",
       "Temporary/Seasonal      113\n",
       "Any                      25\n",
       "Part-Time                23\n",
       "Name: job_type, dtype: int64"
      ]
     },
     "execution_count": 4,
     "metadata": {},
     "output_type": "execute_result"
    }
   ],
   "source": [
    "df['job_type'].value_counts()"
   ]
  },
  {
   "cell_type": "code",
   "execution_count": 5,
   "metadata": {},
   "outputs": [
    {
     "data": {
      "text/plain": [
       "<AxesSubplot:xlabel='count', ylabel='job_type'>"
      ]
     },
     "execution_count": 5,
     "metadata": {},
     "output_type": "execute_result"
    },
    {
     "data": {
      "image/png": "[encoded data removed]",
      "text/plain": [
       "<Figure size 432x288 with 1 Axes>"
      ]
     },
     "metadata": {
      "needs_background": "light"
     },
     "output_type": "display_data"
    }
   ],
   "source": [
    "sns.countplot(data = df, y = 'job_type')"
   ]
  },
  {
   "cell_type": "code",
   "execution_count": 6,
   "metadata": {},
   "outputs": [
    {
     "data": {
      "text/plain": [
       "Pharmaceutical, Healthcare and Medical Sales    4507\n",
       "Clinical Research                               3172\n",
       "Science                                         2932\n",
       "Manufacturing & Operations                      2235\n",
       "Regulatory Affairs                              1163\n",
       "Pharmaceutical Marketing                        1071\n",
       "Data Management and Statistics                   829\n",
       "Quality-assurance                                703\n",
       "Medical Information and Pharmacovigilance        561\n",
       "Medical Affairs / Pharmaceutical Physician       458\n",
       "Pharmacy                                          26\n",
       "Name: category, dtype: int64"
      ]
     },
     "execution_count": 6,
     "metadata": {},
     "output_type": "execute_result"
    }
   ],
   "source": [
    "df['category'].value_counts()"
   ]
  },
  {
   "cell_type": "code",
   "execution_count": 7,
   "metadata": {},
   "outputs": [
    {
     "data": {
      "text/plain": [
       "<AxesSubplot:xlabel='count', ylabel='category'>"
      ]
     },
     "execution_count": 7,
     "metadata": {},
     "output_type": "execute_result"
    },
    {
     "data": {
      "image/png": "[encoded data removed]",
      "text/plain": [
       "<Figure size 432x288 with 1 Axes>"
      ]
     },
     "metadata": {
      "needs_background": "light"
     },
     "output_type": "display_data"
    }
   ],
   "source": [
    "sns.countplot(data = df, y = 'category')"
   ]
  },
  {
   "cell_type": "code",
   "execution_count": 8,
   "metadata": {},
   "outputs": [
    {
     "data": {
      "text/plain": [
       "\" Zest Scientific is searching for an accomplished Scientific Sales professional in the Netherlands. This territory will play a pivotal role as the company increases their presence across Europe, presenting a wealth of untapped potential. Our client is internationally recognized for providing 'best in class' solutions. This region provides excellent growth opportunities for a motivated and entrepreneurial Technical Sales Specialist. This is a highly autonomous role where your input will be encouraged and you will be provided with the platform in which to implement your own selling methods / business plan.\\r\\r\\r\\nThe Candidate:\\r\\r\\r\\n * You will demonstrate a successful track record selling into academic research, clinical diagnostics / hospital laboratories or biotech accounts.\\r\\r\\r\\n * Ability to learn new scientific concepts as you will be required to take a 'hands on' approach supporting customers at all stages of the sales process.\\r\\r\\r\\n * Independent and comfortable working with limited support.\\r\\r\\r\\n * Enterprising with a willingness to exceed customer expectations.\\r\\r\\r\\n * Excellent relationship builder and first class communicator.\\r\\r\\r\\nThe Role:\\r\\r\\r\\n * Responsible for delivering an annual sales plan, developing existing key accounts and strategically identifying new development opportunities within Clinical Diagnostics Laboratories / Clinical Chemistry.\\r\\r\\r\\n * Targeting high value potential customers and leveraging influence within existing accounts.\\r\\r\\r\\n * High degree of autonomy (limited direct management) with the freedom to carve out a profitable territory across the Netherlands.\\r\\r\\r\\nThe Company:\\r\\r\\r\\n * Global presence, offering 'best in class' solutions.\\r\\r\\r\\n * Provides extensive in house training as the company believes that the Technical Sales Specialist should provide first class post-sales support and maintain close working relationships with end users.\\r\\r\\r\\n * Currently experiencing excellent levels of growth with new product lines being added to the portfolio, providing a comprehensive solution to Clinical Labs.\\r\\r\\r\\nRemuneration:\\r\\r\\r\\nIn order to secure the services of the right quality of candidate the client is offering a highly attractive salary and commission package. Additional benefits include Car, Healthcare and Pension. Zest Scientific is working to a strict deadline so in order to be considered for this opportunity please apply now and your application will be reviewed immediately. \\r\\r\\r\\nApply Now\\r\\r\\r\\nRef no: 338477-2989\""
      ]
     },
     "execution_count": 8,
     "metadata": {},
     "output_type": "execute_result"
    }
   ],
   "source": [
    "df['job_description'][0]"
   ]
  },
  {
   "cell_type": "markdown",
   "metadata": {},
   "source": [
    "### Data Preprocessing"
   ]
  },
  {
   "cell_type": "code",
   "execution_count": 9,
   "metadata": {},
   "outputs": [],
   "source": [
    "# removing stop words (is, a...)\n",
    "def rem_stop(sent):\n",
    "    stop_words = set(stopwords.words('english'))\n",
    " \n",
    "    word_tokens = word_tokenize(sent)\n",
    " \n",
    "    cleansent = [w for w in word_tokens if not w.lower() in stop_words]\n",
    "     \n",
    "    cleansent = []\n",
    " \n",
    "    for w in word_tokens:\n",
    "         if w not in stop_words:\n",
    "            cleansent.append(w)\n",
    "    cleansent = ' '.join(cleansent)\n",
    "    return cleansent"
   ]
  },
  {
   "cell_type": "code",
   "execution_count": 10,
   "metadata": {},
   "outputs": [],
   "source": [
    "# remove html tage if any\n",
    "def remove_tags(text):\n",
    "    soup = BeautifulSoup(text, \"html.parser\")\n",
    "    if bool(soup.find()):\n",
    "        [s.extract() for s in soup(['iframe', 'script'])]\n",
    "        stripped_text = soup.get_text()\n",
    "        stripped_text = re.sub(r'[\\r|\\n|\\r\\n]+', '\\n', stripped_text)\n",
    "    else:\n",
    "        stripped_text = text\n",
    "    return stripped_text"
   ]
  },
  {
   "cell_type": "code",
   "execution_count": 11,
   "metadata": {},
   "outputs": [],
   "source": [
    "# Don't -> Do not, I'd -> I would\n",
    "def expand_contractions(text):\n",
    "    \n",
    "    expanded_words = []   \n",
    "    for word in text.split():\n",
    "  # using contractions.fix to expand the shortened words\n",
    "      expanded_words.append(contractions.fix(word))  \n",
    "   \n",
    "    expanded_text = ' '.join(expanded_words)\n",
    "    return expanded_text"
   ]
  },
  {
   "cell_type": "code",
   "execution_count": 12,
   "metadata": {},
   "outputs": [],
   "source": [
    "# converting é to e.\n",
    "def remove_accented_chars(text):\n",
    "    text = unicodedata.normalize('NFKD', text).encode('ascii', 'ignore').decode('utf-8', 'ignore')\n",
    "    return text"
   ]
  },
  {
   "cell_type": "code",
   "execution_count": 13,
   "metadata": {},
   "outputs": [],
   "source": [
    "#stemming\n",
    "def stem(text):\n",
    "    ps = nltk.porter.PorterStemmer()\n",
    "    text = ' '.join([ps.stem(word) for word in text.split()])\n",
    "    return text"
   ]
  },
  {
   "cell_type": "code",
   "execution_count": 14,
   "metadata": {},
   "outputs": [],
   "source": [
    "#Lemmatization\n",
    "def lemmatize_text(text):\n",
    "    wnl = WordNetLemmatizer()\n",
    "    list1 = nltk.word_tokenize(text)\n",
    "    lemmatized_string = ' '.join([wnl.lemmatize(words) for words in list1])\n",
    "    return lemmatized_string"
   ]
  },
  {
   "cell_type": "code",
   "execution_count": 15,
   "metadata": {},
   "outputs": [],
   "source": [
    "#remove special characters\n",
    "def remove_special_characters(text, remove_digits=False):\n",
    "    pattern = r'[^a-zA-Z0-9\\s]|\\[|\\]' if not remove_digits else r'[^a-zA-Z\\s]|\\[|\\]'\n",
    "    text = re.sub(pattern, '', text)\n",
    "    return text"
   ]
  },
  {
   "cell_type": "code",
   "execution_count": 16,
   "metadata": {},
   "outputs": [],
   "source": [
    "def preprocess_text(sen, html_stripping=True, contraction_expansion=True,\n",
    "                     accented_char_removal=True, text_lower_case=True, \n",
    "                     text_lemmatization=True, remove_digits=True,\n",
    "                     special_char_removal = True,\n",
    "                     stopword_removal=True):\n",
    "    \n",
    "    if html_stripping:\n",
    "            sen = remove_tags(sen)\n",
    "    if accented_char_removal:\n",
    "            sen = remove_accented_chars(sen)\n",
    "   \n",
    "    if contraction_expansion:\n",
    "            sen = expand_contractions(sen)\n",
    "\n",
    "    if text_lemmatization:\n",
    "            sen = lemmatize_text(sen)    \n",
    "            \n",
    "    if special_char_removal:  \n",
    "            special_char_pattern = re.compile(r'([{.(-)!}])')\n",
    "            sen = special_char_pattern.sub(\" \\\\1 \", sen)\n",
    "            sen = remove_special_characters(sen, remove_digits=remove_digits)      \n",
    "            \n",
    "    if text_lower_case:\n",
    "            sen = sen.lower()    \n",
    "\n",
    "    if stopword_removal:\n",
    "            sen = rem_stop(sen)    \n",
    "            \n",
    "    return sen   \n"
   ]
  },
  {
   "cell_type": "code",
   "execution_count": 17,
   "metadata": {},
   "outputs": [],
   "source": [
    "#Passing sentences to the preprocessing function\n",
    "z = []\n",
    "sentences = list(df['job_description'])\n",
    "for sen in sentences:\n",
    "    z.append(preprocess_text(sen))"
   ]
  },
  {
   "cell_type": "code",
   "execution_count": 18,
   "metadata": {},
   "outputs": [
    {
     "data": {
      "text/plain": [
       "'zest scientific searching accomplished scientific sales professional netherlands territory play pivotal role company increase presence across europe presenting wealth untapped potential client internationally recognized providing best class solution region provides excellent growth opportunity motivated entrepreneurial technical sales specialist highly autonomous role input encouraged provided platform implement selling method business plan candidate demonstrate successful track record selling academic research clinical diagnostics hospital laboratory biotech account ability learn new scientific concept required take hands approach supporting customer stage sale process independent comfortable working limited support enterprising willingness exceed customer expectation excellent relationship builder first class communicator role responsible delivering annual sale plan developing existing key account strategically identifying new development opportunity within clinical diagnostics laboratories clinical chemistry targeting high value potential customer leveraging influence within existing account high degree autonomy limited direct management freedom carve profitable territory across netherlands company global presence offering best class solution provides extensive house training company belief technical sales specialist provide first class postsales support maintain close working relationship end user currently experiencing excellent level growth new product line added portfolio providing comprehensive solution clinical labs remuneration order secure service right quality candidate client offering highly attractive salary commission package additional benefit include car healthcare pension zest scientific working strict deadline order considered opportunity please apply application reviewed immediately apply ref'"
      ]
     },
     "execution_count": 18,
     "metadata": {},
     "output_type": "execute_result"
    }
   ],
   "source": [
    "z[0]"
   ]
  },
  {
   "cell_type": "code",
   "execution_count": 19,
   "metadata": {
    "scrolled": true
   },
   "outputs": [
    {
     "data": {
      "text/html": [
       "<div>\n",
       "<style scoped>\n",
       "    .dataframe tbody tr th:only-of-type {\n",
       "        vertical-align: middle;\n",
       "    }\n",
       "\n",
       "    .dataframe tbody tr th {\n",
       "        vertical-align: top;\n",
       "    }\n",
       "\n",
       "    .dataframe thead th {\n",
       "        text-align: right;\n",
       "    }\n",
       "</style>\n",
       "<table border=\"1\" class=\"dataframe\">\n",
       "  <thead>\n",
       "    <tr style=\"text-align: right;\">\n",
       "      <th></th>\n",
       "      <th>job_no</th>\n",
       "      <th>job_description</th>\n",
       "      <th>job_type</th>\n",
       "      <th>category</th>\n",
       "      <th>processedJD</th>\n",
       "    </tr>\n",
       "  </thead>\n",
       "  <tbody>\n",
       "    <tr>\n",
       "      <th>0</th>\n",
       "      <td>Id-12765</td>\n",
       "      <td>Zest Scientific is searching for an accomplis...</td>\n",
       "      <td>Permanent</td>\n",
       "      <td>Pharmaceutical, Healthcare and Medical Sales</td>\n",
       "      <td>zest scientific searching accomplished scienti...</td>\n",
       "    </tr>\n",
       "    <tr>\n",
       "      <th>1</th>\n",
       "      <td>Id-22925</td>\n",
       "      <td>En el mundo de los CRO's típicos, esta compañí...</td>\n",
       "      <td>Permanent</td>\n",
       "      <td>Clinical Research</td>\n",
       "      <td>en el mundo de los cro tipicos esta compania e...</td>\n",
       "    </tr>\n",
       "    <tr>\n",
       "      <th>2</th>\n",
       "      <td>Id-1321</td>\n",
       "      <td>Asha Mistry of Umbilical Life is recruiting an...</td>\n",
       "      <td>Contract/Interim</td>\n",
       "      <td>Pharmaceutical Marketing</td>\n",
       "      <td>asha mistry umbilical life recruiting experien...</td>\n",
       "    </tr>\n",
       "    <tr>\n",
       "      <th>3</th>\n",
       "      <td>Id-9473</td>\n",
       "      <td>Sales Representative - Laser in der Medizinte...</td>\n",
       "      <td>Permanent</td>\n",
       "      <td>Pharmaceutical, Healthcare and Medical Sales</td>\n",
       "      <td>sales representative laser der medizintechnik ...</td>\n",
       "    </tr>\n",
       "    <tr>\n",
       "      <th>4</th>\n",
       "      <td>Id-14952</td>\n",
       "      <td>Field Service Engineer - Life Science\\r\\r\\r\\nC...</td>\n",
       "      <td>Permanent</td>\n",
       "      <td>Manufacturing &amp; Operations</td>\n",
       "      <td>field service engineer life science cambridge ...</td>\n",
       "    </tr>\n",
       "  </tbody>\n",
       "</table>\n",
       "</div>"
      ],
      "text/plain": [
       "     job_no                                    job_description  \\\n",
       "0  Id-12765   Zest Scientific is searching for an accomplis...   \n",
       "1  Id-22925  En el mundo de los CRO's típicos, esta compañí...   \n",
       "2   Id-1321  Asha Mistry of Umbilical Life is recruiting an...   \n",
       "3   Id-9473   Sales Representative - Laser in der Medizinte...   \n",
       "4  Id-14952  Field Service Engineer - Life Science\\r\\r\\r\\nC...   \n",
       "\n",
       "           job_type                                      category  \\\n",
       "0         Permanent  Pharmaceutical, Healthcare and Medical Sales   \n",
       "1         Permanent                             Clinical Research   \n",
       "2  Contract/Interim                      Pharmaceutical Marketing   \n",
       "3         Permanent  Pharmaceutical, Healthcare and Medical Sales   \n",
       "4         Permanent                    Manufacturing & Operations   \n",
       "\n",
       "                                         processedJD  \n",
       "0  zest scientific searching accomplished scienti...  \n",
       "1  en el mundo de los cro tipicos esta compania e...  \n",
       "2  asha mistry umbilical life recruiting experien...  \n",
       "3  sales representative laser der medizintechnik ...  \n",
       "4  field service engineer life science cambridge ...  "
      ]
     },
     "execution_count": 19,
     "metadata": {},
     "output_type": "execute_result"
    }
   ],
   "source": [
    "df['processedJD'] = z\n",
    "df.head()"
   ]
  },
  {
   "cell_type": "markdown",
   "metadata": {},
   "source": [
    "### Training"
   ]
  },
  {
   "cell_type": "code",
   "execution_count": 20,
   "metadata": {},
   "outputs": [],
   "source": [
    "traindf = df[['processedJD', 'job_type', 'category']]"
   ]
  },
  {
   "cell_type": "code",
   "execution_count": 21,
   "metadata": {},
   "outputs": [],
   "source": [
    "X = traindf['processedJD']\n",
    "Y = traindf[['job_type', 'category']]"
   ]
  },
  {
   "cell_type": "code",
   "execution_count": 22,
   "metadata": {},
   "outputs": [],
   "source": [
    "X_train, X_test, y_train, y_test = train_test_split(X, Y,test_size=0.25, random_state=42)"
   ]
  },
  {
   "cell_type": "code",
   "execution_count": 23,
   "metadata": {},
   "outputs": [],
   "source": [
    "from xgboost import XGBClassifier\n",
    "pipeline_xgb =Pipeline([\n",
    "                ('vect', CountVectorizer(tokenizer=word_tokenize)),\n",
    "                ('tfidf', TfidfTransformer()),\n",
    "                ('clf', MultiOutputClassifier(XGBClassifier())) ])\n"
   ]
  },
  {
   "cell_type": "code",
   "execution_count": 24,
   "metadata": {},
   "outputs": [],
   "source": [
    "# xgbparams = {\n",
    "#         'clf__estimator__learning_rate':[0.05, 0.10, 0.15, 0.20],\n",
    "#         'clf__estimator__max_depth' : [ 3, 4, 5, 6],\n",
    "#         \"clf__estimator__min_child_weight\" : [ 1, 3, 5, 7 ],\n",
    "#         \"clf__estimator__gamma\": [ 0.0, 0.1, 0.2 , 0.3, 0.4],\n",
    "#         \"clf__estimator__colsample_bytree\" : [ 0.3, 0.4, 0.5 , 0.7],\n",
    "#          }"
   ]
  },
  {
   "cell_type": "code",
   "execution_count": 25,
   "metadata": {},
   "outputs": [],
   "source": [
    "# random_search=RandomizedSearchCV(pipeline_xgb,param_distributions=xgbparams,n_iter=5,scoring='roc_auc',n_jobs=-1,cv=5,verbose=3)\n",
    "# random_search.fit(X_train, y_train)"
   ]
  },
  {
   "cell_type": "code",
   "execution_count": 26,
   "metadata": {},
   "outputs": [],
   "source": [
    "# random_search.best_estimator_"
   ]
  },
  {
   "cell_type": "code",
   "execution_count": 27,
   "metadata": {},
   "outputs": [],
   "source": [
    "# xgb = random_search.best_estimator_"
   ]
  },
  {
   "cell_type": "code",
   "execution_count": 28,
   "metadata": {},
   "outputs": [],
   "source": [
    "# xgb.fit(X_train, y_train)"
   ]
  },
  {
   "cell_type": "code",
   "execution_count": 29,
   "metadata": {},
   "outputs": [],
   "source": [
    "# pred_xgb = xgb.predict(X_test)"
   ]
  },
  {
   "cell_type": "code",
   "execution_count": 30,
   "metadata": {},
   "outputs": [
    {
     "name": "stderr",
     "output_type": "stream",
     "text": [
      "c:\\users\\siddhesh\\appdata\\local\\programs\\python\\python36\\lib\\site-packages\\xgboost\\sklearn.py:1224: UserWarning: The use of label encoder in XGBClassifier is deprecated and will be removed in a future release. To remove this warning, do the following: 1) Pass option use_label_encoder=False when constructing XGBClassifier object; and 2) Encode your labels (y) as integers starting with 0, i.e. 0, 1, 2, ..., [num_class - 1].\n",
      "  warnings.warn(label_encoder_deprecation_msg, UserWarning)\n"
     ]
    },
    {
     "name": "stdout",
     "output_type": "stream",
     "text": [
      "[15:25:42] WARNING: C:/Users/Administrator/workspace/xgboost-win64_release_1.5.1/src/learner.cc:1115: Starting in XGBoost 1.3.0, the default evaluation metric used with the objective 'multi:softprob' was changed from 'merror' to 'mlogloss'. Explicitly set eval_metric if you'd like to restore the old behavior.\n",
      "[15:28:11] WARNING: C:/Users/Administrator/workspace/xgboost-win64_release_1.5.1/src/learner.cc:1115: Starting in XGBoost 1.3.0, the default evaluation metric used with the objective 'multi:softprob' was changed from 'merror' to 'mlogloss'. Explicitly set eval_metric if you'd like to restore the old behavior.\n"
     ]
    },
    {
     "data": {
      "text/plain": [
       "Pipeline(steps=[('vect',\n",
       "                 CountVectorizer(tokenizer=<function word_tokenize at 0x000002BB7BBD5268>)),\n",
       "                ('tfidf', TfidfTransformer()),\n",
       "                ('clf',\n",
       "                 MultiOutputClassifier(estimator=XGBClassifier(base_score=None,\n",
       "                                                               booster=None,\n",
       "                                                               colsample_bylevel=None,\n",
       "                                                               colsample_bynode=None,\n",
       "                                                               colsample_bytree=None,\n",
       "                                                               enable_categorical=False,\n",
       "                                                               gamma=None,\n",
       "                                                               gpu_id=None,\n",
       "                                                               importance_type=None,\n",
       "                                                               interaction_constraints=None,\n",
       "                                                               learning_rate=None,\n",
       "                                                               max_delta_step=None,\n",
       "                                                               max_depth=None,\n",
       "                                                               min_child_weight=None,\n",
       "                                                               missing=nan,\n",
       "                                                               monotone_constraints=None,\n",
       "                                                               n_estimators=100,\n",
       "                                                               n_jobs=None,\n",
       "                                                               num_parallel_tree=None,\n",
       "                                                               predictor=None,\n",
       "                                                               random_state=None,\n",
       "                                                               reg_alpha=None,\n",
       "                                                               reg_lambda=None,\n",
       "                                                               scale_pos_weight=None,\n",
       "                                                               subsample=None,\n",
       "                                                               tree_method=None,\n",
       "                                                               validate_parameters=None,\n",
       "                                                               verbosity=None)))])"
      ]
     },
     "execution_count": 30,
     "metadata": {},
     "output_type": "execute_result"
    }
   ],
   "source": [
    "pipeline_xgb.fit(X_train, y_train)"
   ]
  },
  {
   "cell_type": "code",
   "execution_count": 31,
   "metadata": {},
   "outputs": [],
   "source": [
    "pred_xgb = pipeline_xgb.predict(X_test)"
   ]
  },
  {
   "cell_type": "markdown",
   "metadata": {},
   "source": [
    "### Model evaluation"
   ]
  },
  {
   "cell_type": "code",
   "execution_count": 32,
   "metadata": {},
   "outputs": [],
   "source": [
    "def Extract(lst):\n",
    "    l1 = []\n",
    "    l1 = [item[0] for item in lst]\n",
    "    return l1\n",
    "\n",
    "def Extract2(lst):\n",
    "    l1 = []\n",
    "    l1 = [item[1] for item in lst]\n",
    "    return l1"
   ]
  },
  {
   "cell_type": "code",
   "execution_count": 33,
   "metadata": {},
   "outputs": [],
   "source": [
    "e1 = Extract(pred_xgb)\n",
    "e2 = y_test['job_type']"
   ]
  },
  {
   "cell_type": "code",
   "execution_count": 34,
   "metadata": {},
   "outputs": [],
   "source": [
    "t1 = f1_score(e2, e1, average = 'weighted') #'micro' uses the global number of TP, FN, FP and calculates the F1 directly"
   ]
  },
  {
   "cell_type": "code",
   "execution_count": 35,
   "metadata": {},
   "outputs": [],
   "source": [
    "e3 = e1 = Extract2(pred_xgb)\n",
    "e4 = y_test['category']"
   ]
  },
  {
   "cell_type": "code",
   "execution_count": 36,
   "metadata": {},
   "outputs": [],
   "source": [
    "t2 = f1_score(e4, e3, average = 'weighted')"
   ]
  },
  {
   "cell_type": "code",
   "execution_count": 37,
   "metadata": {},
   "outputs": [],
   "source": [
    "testdf = pd.read_csv('test.csv')"
   ]
  },
  {
   "cell_type": "code",
   "execution_count": 38,
   "metadata": {},
   "outputs": [],
   "source": [
    "t = []\n",
    "sentences = list(testdf['job_description'])\n",
    "for sen in sentences:\n",
    "    t.append(preprocess_text(sen))"
   ]
  },
  {
   "cell_type": "code",
   "execution_count": 39,
   "metadata": {},
   "outputs": [],
   "source": [
    "testdf['processedJD'] = t"
   ]
  },
  {
   "cell_type": "code",
   "execution_count": 40,
   "metadata": {},
   "outputs": [],
   "source": [
    "processedJD_pred = pipeline_xgb.predict(testdf['processedJD'])"
   ]
  },
  {
   "cell_type": "code",
   "execution_count": 41,
   "metadata": {},
   "outputs": [
    {
     "data": {
      "text/html": [
       "<div>\n",
       "<style scoped>\n",
       "    .dataframe tbody tr th:only-of-type {\n",
       "        vertical-align: middle;\n",
       "    }\n",
       "\n",
       "    .dataframe tbody tr th {\n",
       "        vertical-align: top;\n",
       "    }\n",
       "\n",
       "    .dataframe thead th {\n",
       "        text-align: right;\n",
       "    }\n",
       "</style>\n",
       "<table border=\"1\" class=\"dataframe\">\n",
       "  <thead>\n",
       "    <tr style=\"text-align: right;\">\n",
       "      <th></th>\n",
       "      <th>job_type</th>\n",
       "      <th>category</th>\n",
       "    </tr>\n",
       "  </thead>\n",
       "  <tbody>\n",
       "    <tr>\n",
       "      <th>0</th>\n",
       "      <td>Permanent</td>\n",
       "      <td>Data Management and Statistics</td>\n",
       "    </tr>\n",
       "    <tr>\n",
       "      <th>1</th>\n",
       "      <td>Permanent</td>\n",
       "      <td>Pharmaceutical, Healthcare and Medical Sales</td>\n",
       "    </tr>\n",
       "    <tr>\n",
       "      <th>2</th>\n",
       "      <td>Permanent</td>\n",
       "      <td>Science</td>\n",
       "    </tr>\n",
       "    <tr>\n",
       "      <th>3</th>\n",
       "      <td>Permanent</td>\n",
       "      <td>Pharmaceutical Marketing</td>\n",
       "    </tr>\n",
       "    <tr>\n",
       "      <th>4</th>\n",
       "      <td>Permanent</td>\n",
       "      <td>Clinical Research</td>\n",
       "    </tr>\n",
       "    <tr>\n",
       "      <th>...</th>\n",
       "      <td>...</td>\n",
       "      <td>...</td>\n",
       "    </tr>\n",
       "    <tr>\n",
       "      <th>11766</th>\n",
       "      <td>Permanent</td>\n",
       "      <td>Clinical Research</td>\n",
       "    </tr>\n",
       "    <tr>\n",
       "      <th>11767</th>\n",
       "      <td>Permanent</td>\n",
       "      <td>Clinical Research</td>\n",
       "    </tr>\n",
       "    <tr>\n",
       "      <th>11768</th>\n",
       "      <td>Permanent</td>\n",
       "      <td>Quality-assurance</td>\n",
       "    </tr>\n",
       "    <tr>\n",
       "      <th>11769</th>\n",
       "      <td>Permanent</td>\n",
       "      <td>Clinical Research</td>\n",
       "    </tr>\n",
       "    <tr>\n",
       "      <th>11770</th>\n",
       "      <td>Permanent</td>\n",
       "      <td>Pharmaceutical, Healthcare and Medical Sales</td>\n",
       "    </tr>\n",
       "  </tbody>\n",
       "</table>\n",
       "<p>11771 rows × 2 columns</p>\n",
       "</div>"
      ],
      "text/plain": [
       "        job_type                                      category\n",
       "0      Permanent                Data Management and Statistics\n",
       "1      Permanent  Pharmaceutical, Healthcare and Medical Sales\n",
       "2      Permanent                                       Science\n",
       "3      Permanent                      Pharmaceutical Marketing\n",
       "4      Permanent                             Clinical Research\n",
       "...          ...                                           ...\n",
       "11766  Permanent                             Clinical Research\n",
       "11767  Permanent                             Clinical Research\n",
       "11768  Permanent                             Quality-assurance\n",
       "11769  Permanent                             Clinical Research\n",
       "11770  Permanent  Pharmaceutical, Healthcare and Medical Sales\n",
       "\n",
       "[11771 rows x 2 columns]"
      ]
     },
     "execution_count": 41,
     "metadata": {},
     "output_type": "execute_result"
    }
   ],
   "source": [
    "preddf = pd.DataFrame(processedJD_pred, columns = ('job_type', 'category'))\n",
    "preddf"
   ]
  },
  {
   "cell_type": "code",
   "execution_count": 42,
   "metadata": {},
   "outputs": [],
   "source": [
    "predictions = pd.concat([testdf, preddf], axis=1)"
   ]
  },
  {
   "cell_type": "code",
   "execution_count": 43,
   "metadata": {},
   "outputs": [
    {
     "data": {
      "text/html": [
       "<div>\n",
       "<style scoped>\n",
       "    .dataframe tbody tr th:only-of-type {\n",
       "        vertical-align: middle;\n",
       "    }\n",
       "\n",
       "    .dataframe tbody tr th {\n",
       "        vertical-align: top;\n",
       "    }\n",
       "\n",
       "    .dataframe thead th {\n",
       "        text-align: right;\n",
       "    }\n",
       "</style>\n",
       "<table border=\"1\" class=\"dataframe\">\n",
       "  <thead>\n",
       "    <tr style=\"text-align: right;\">\n",
       "      <th></th>\n",
       "      <th>job_no</th>\n",
       "      <th>job_type</th>\n",
       "      <th>category</th>\n",
       "    </tr>\n",
       "  </thead>\n",
       "  <tbody>\n",
       "    <tr>\n",
       "      <th>0</th>\n",
       "      <td>Id-1</td>\n",
       "      <td>Permanent</td>\n",
       "      <td>Data Management and Statistics</td>\n",
       "    </tr>\n",
       "    <tr>\n",
       "      <th>1</th>\n",
       "      <td>Id-2</td>\n",
       "      <td>Permanent</td>\n",
       "      <td>Pharmaceutical, Healthcare and Medical Sales</td>\n",
       "    </tr>\n",
       "    <tr>\n",
       "      <th>2</th>\n",
       "      <td>Id-4</td>\n",
       "      <td>Permanent</td>\n",
       "      <td>Science</td>\n",
       "    </tr>\n",
       "    <tr>\n",
       "      <th>3</th>\n",
       "      <td>Id-6</td>\n",
       "      <td>Permanent</td>\n",
       "      <td>Pharmaceutical Marketing</td>\n",
       "    </tr>\n",
       "    <tr>\n",
       "      <th>4</th>\n",
       "      <td>Id-7</td>\n",
       "      <td>Permanent</td>\n",
       "      <td>Clinical Research</td>\n",
       "    </tr>\n",
       "    <tr>\n",
       "      <th>...</th>\n",
       "      <td>...</td>\n",
       "      <td>...</td>\n",
       "      <td>...</td>\n",
       "    </tr>\n",
       "    <tr>\n",
       "      <th>11766</th>\n",
       "      <td>Id-29421</td>\n",
       "      <td>Permanent</td>\n",
       "      <td>Clinical Research</td>\n",
       "    </tr>\n",
       "    <tr>\n",
       "      <th>11767</th>\n",
       "      <td>Id-29422</td>\n",
       "      <td>Permanent</td>\n",
       "      <td>Clinical Research</td>\n",
       "    </tr>\n",
       "    <tr>\n",
       "      <th>11768</th>\n",
       "      <td>Id-29425</td>\n",
       "      <td>Permanent</td>\n",
       "      <td>Quality-assurance</td>\n",
       "    </tr>\n",
       "    <tr>\n",
       "      <th>11769</th>\n",
       "      <td>Id-29426</td>\n",
       "      <td>Permanent</td>\n",
       "      <td>Clinical Research</td>\n",
       "    </tr>\n",
       "    <tr>\n",
       "      <th>11770</th>\n",
       "      <td>Id-29427</td>\n",
       "      <td>Permanent</td>\n",
       "      <td>Pharmaceutical, Healthcare and Medical Sales</td>\n",
       "    </tr>\n",
       "  </tbody>\n",
       "</table>\n",
       "<p>11771 rows × 3 columns</p>\n",
       "</div>"
      ],
      "text/plain": [
       "         job_no   job_type                                      category\n",
       "0          Id-1  Permanent                Data Management and Statistics\n",
       "1          Id-2  Permanent  Pharmaceutical, Healthcare and Medical Sales\n",
       "2          Id-4  Permanent                                       Science\n",
       "3          Id-6  Permanent                      Pharmaceutical Marketing\n",
       "4          Id-7  Permanent                             Clinical Research\n",
       "...         ...        ...                                           ...\n",
       "11766  Id-29421  Permanent                             Clinical Research\n",
       "11767  Id-29422  Permanent                             Clinical Research\n",
       "11768  Id-29425  Permanent                             Quality-assurance\n",
       "11769  Id-29426  Permanent                             Clinical Research\n",
       "11770  Id-29427  Permanent  Pharmaceutical, Healthcare and Medical Sales\n",
       "\n",
       "[11771 rows x 3 columns]"
      ]
     },
     "execution_count": 43,
     "metadata": {},
     "output_type": "execute_result"
    }
   ],
   "source": [
    "predictions = predictions.drop(['processedJD','job_description'], axis = 1)\n",
    "predictions"
   ]
  },
  {
   "cell_type": "code",
   "execution_count": 44,
   "metadata": {},
   "outputs": [],
   "source": [
    "predictions.to_csv('xgb.csv', index=False)"
   ]
  },
  {
   "cell_type": "code",
   "execution_count": null,
   "metadata": {},
   "outputs": [],
   "source": []
  },
  {
   "cell_type": "code",
   "execution_count": 45,
   "metadata": {},
   "outputs": [],
   "source": [
    "\n",
    "# pipeline_gb =Pipeline([\n",
    "#                 ('vect', CountVectorizer(tokenizer=word_tokenize)),\n",
    "#                 ('tfidf', TfidfTransformer()),\n",
    "#                 ('clf', MultiOutputClassifier(GradientBoostingClassifier())) ])"
   ]
  },
  {
   "cell_type": "code",
   "execution_count": 46,
   "metadata": {},
   "outputs": [],
   "source": [
    "# params = {\n",
    "#         'clf__estimator__learning_rate':[0.05, 0.10, 0.15, 0.20],\n",
    "#         'clf__estimator__max_depth' : [ 3, 4, 5, 6]\n",
    "#          }"
   ]
  },
  {
   "cell_type": "code",
   "execution_count": 47,
   "metadata": {},
   "outputs": [],
   "source": [
    "\n",
    "# random_search=RandomizedSearchCV(pipeline_gb,param_distributions=params,n_iter=5,scoring='roc_auc',n_jobs=-1,cv=5,verbose=3)\n",
    "# random_search.fit(X_train, y_train)"
   ]
  },
  {
   "cell_type": "code",
   "execution_count": 48,
   "metadata": {},
   "outputs": [],
   "source": [
    "# gb = random_search.best_estimator_"
   ]
  },
  {
   "cell_type": "code",
   "execution_count": 49,
   "metadata": {},
   "outputs": [],
   "source": [
    "#gb.fit(X_train, y_train)"
   ]
  },
  {
   "cell_type": "code",
   "execution_count": 50,
   "metadata": {},
   "outputs": [],
   "source": [
    "#pred_gb = gb.predict(X_test)"
   ]
  },
  {
   "cell_type": "code",
   "execution_count": 51,
   "metadata": {},
   "outputs": [],
   "source": [
    "# #Creating a DT pipeline \n",
    "# pipeline =Pipeline([\n",
    "#                 ('vect', CountVectorizer(tokenizer=word_tokenize)),\n",
    "#                 ('tfidf', TfidfTransformer()),\n",
    "#                 ('clf', MultiOutputClassifier(DecisionTreeClassifier())) ])"
   ]
  },
  {
   "cell_type": "code",
   "execution_count": 52,
   "metadata": {},
   "outputs": [],
   "source": [
    "# pipeline.fit(X_train, y_train)"
   ]
  },
  {
   "cell_type": "code",
   "execution_count": 53,
   "metadata": {},
   "outputs": [],
   "source": [
    "# y_pred = pipeline.predict(X_test)"
   ]
  },
  {
   "cell_type": "code",
   "execution_count": 54,
   "metadata": {},
   "outputs": [],
   "source": [
    "# # RandomForest Pipeline\n",
    "# rfpipeline =Pipeline([\n",
    "#                 ('vect', CountVectorizer(tokenizer=word_tokenize)),\n",
    "#                 ('tfidf', TfidfTransformer()),\n",
    "#                 ('clf', MultiOutputClassifier(RandomForestClassifier()))])"
   ]
  },
  {
   "cell_type": "code",
   "execution_count": 55,
   "metadata": {},
   "outputs": [],
   "source": [
    "# rfpipeline.fit(X_train, y_train)"
   ]
  },
  {
   "cell_type": "code",
   "execution_count": 56,
   "metadata": {},
   "outputs": [],
   "source": [
    "# prd = rfpipeline.predict(X_test)"
   ]
  },
  {
   "cell_type": "code",
   "execution_count": 57,
   "metadata": {},
   "outputs": [],
   "source": [
    "# params = {\n",
    "#         'clf__estimator__min_samples_split': (10,30,50,100),\n",
    "#         'clf__estimator__max_depth': (30,50,100)\n",
    "#          }"
   ]
  },
  {
   "cell_type": "code",
   "execution_count": 58,
   "metadata": {},
   "outputs": [],
   "source": [
    "# # Using RandomSearchCV to find the best parameters\n",
    "# from sklearn.model_selection import RandomizedSearchCV\n",
    "# random_search=RandomizedSearchCV(rfpipeline,param_distributions=params,n_iter=5,scoring='roc_auc',n_jobs=-1,cv=5,verbose=3)\n",
    "# random_search.fit(X_train, y_train)"
   ]
  },
  {
   "cell_type": "code",
   "execution_count": 59,
   "metadata": {},
   "outputs": [],
   "source": [
    "# rf = random_search.best_estimator_"
   ]
  },
  {
   "cell_type": "code",
   "execution_count": 60,
   "metadata": {},
   "outputs": [],
   "source": [
    "# rf.fit(X_train, y_train)"
   ]
  },
  {
   "cell_type": "code",
   "execution_count": 61,
   "metadata": {},
   "outputs": [],
   "source": [
    "# pred_rf = rf.predict(X_test)"
   ]
  },
  {
   "cell_type": "code",
   "execution_count": 62,
   "metadata": {},
   "outputs": [],
   "source": [
    "# testdf = pd.read_csv('test.csv')"
   ]
  },
  {
   "cell_type": "code",
   "execution_count": 63,
   "metadata": {},
   "outputs": [],
   "source": [
    "# testdf.head"
   ]
  },
  {
   "cell_type": "code",
   "execution_count": 64,
   "metadata": {},
   "outputs": [],
   "source": [
    "# t = []\n",
    "# sentences = list(testdf['job_description'])\n",
    "# for sen in sentences:\n",
    "#     t.append(preprocess_text(sen))"
   ]
  },
  {
   "cell_type": "code",
   "execution_count": 65,
   "metadata": {},
   "outputs": [],
   "source": [
    "# testdf['processedJD'] = t"
   ]
  },
  {
   "cell_type": "code",
   "execution_count": 66,
   "metadata": {},
   "outputs": [],
   "source": [
    "# processedJD_pred = rf.predict(testdf['processedJD'])"
   ]
  },
  {
   "cell_type": "code",
   "execution_count": 67,
   "metadata": {},
   "outputs": [],
   "source": [
    "# preddf = pd.DataFrame(processedJD_pred, columns = ('job_type', 'category'))\n",
    "# preddf"
   ]
  },
  {
   "cell_type": "code",
   "execution_count": 68,
   "metadata": {},
   "outputs": [],
   "source": [
    "# predictions = pd.concat([testdf, preddf], axis=1)\n",
    "# predictions = predictions.drop(['processedJD','job_description'], axis = 1)"
   ]
  },
  {
   "cell_type": "code",
   "execution_count": 69,
   "metadata": {},
   "outputs": [],
   "source": [
    "# predictions"
   ]
  },
  {
   "cell_type": "code",
   "execution_count": 70,
   "metadata": {},
   "outputs": [],
   "source": [
    "# predictions.to_csv('Final_Prediction.csv', index=False)"
   ]
  },
  {
   "cell_type": "code",
   "execution_count": 71,
   "metadata": {},
   "outputs": [],
   "source": [
    "# final_pred = rf.predict(testdf['job_description'])"
   ]
  },
  {
   "cell_type": "code",
   "execution_count": 72,
   "metadata": {},
   "outputs": [],
   "source": [
    "# final_pred"
   ]
  },
  {
   "cell_type": "code",
   "execution_count": null,
   "metadata": {},
   "outputs": [],
   "source": []
  }
 ],
 "metadata": {
  "kernelspec": {
   "display_name": "Python 3",
   "language": "python",
   "name": "python3"
  },
  "language_info": {
   "codemirror_mode": {
    "name": "ipython",
    "version": 3
   },
   "file_extension": ".py",
   "mimetype": "text/x-python",
   "name": "python",
   "nbconvert_exporter": "python",
   "pygments_lexer": "ipython3",
   "version": "3.6.4"
  }
 },
 "nbformat": 4,
 "nbformat_minor": 4
}
